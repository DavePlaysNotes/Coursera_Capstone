{
 "cells": [
  {
   "cell_type": "markdown",
   "metadata": {},
   "source": [
    "# Applied Data Science Capstone\n",
    "This notebook will be used for the Capstone project"
   ]
  },
  {
   "cell_type": "code",
   "execution_count": 1,
   "metadata": {},
   "outputs": [],
   "source": [
    "import pandas as pd\n",
    "import numpy as np"
   ]
  },
  {
   "cell_type": "code",
   "execution_count": 2,
   "metadata": {},
   "outputs": [
    {
     "name": "stdout",
     "output_type": "stream",
     "text": [
      "Hello Capstone Project Course!\n"
     ]
    }
   ],
   "source": [
    "print('Hello Capstone Project Course!')"
   ]
  },
  {
   "cell_type": "markdown",
   "metadata": {},
   "source": [
    "# Week 4 Submission\n"
   ]
  },
  {
   "cell_type": "markdown",
   "metadata": {},
   "source": [
    "# Introduction/Business Problem"
   ]
  },
  {
   "cell_type": "markdown",
   "metadata": {},
   "source": [
    "My goal is to produce maps of a city, which show areas of heavy foot traffic in relation to the time of day and type of venues.\n",
    "\n",
    "Investors frequently need to make judgements about an opportunity in an area that they are not familiar with. Local regulations, cultural norms, and geographic idiosyncrasies make it difficult to know the layout of a foreign city's busy spots without spending a lot of time there. \n",
    "\n",
    "Investors would benefit from knowing the distribution of foot traffic at certain times of day so as to avoid situations like:\n",
    "- investing in a nightclub on a street filled mostly with a daytime market\n",
    "- investing in a hardware store in the middle of the clubbing district\n",
    "\n",
    "By creating a script to provide information on a specific city, this could be applied to any other city provided that Foursquare has adequate data. It could be of use not only to investors but to anyone (eg city service planners) needing to know when and where the city is quiet/busy.\n"
   ]
  },
  {
   "cell_type": "markdown",
   "metadata": {},
   "source": [
    "# Data\n",
    "This can be achieved primarily by using the opening hours of venues via Foursquare's API. The times are provided in a format that will require some wrangling to put it into flattened columns and rows. \n",
    "\n",
    "Foursquare's limit of 30 venues per API call will require a careful approach to collect comprehensive data on the area.\n",
    "- **Gather the data:**\n",
    "- - Select the edges of an area and divide it into an array of equally spaced lang/long coordinates.\n",
    "- - Call the API for each of the lang/long coordinates in the array\n",
    "- - Combine the data from each API call. If the array points were close enough, we should have some overlap causing duplicate entries, which will be merged.\n",
    "- - Extract the opening hours from each venue\n",
    "\n",
    "As mentioned, local regulations and cultural norms will mean that different cities have different 'typical' opening hours. So I will apply Machine Learning to cluster the venues into classes by their opening hours\n",
    "\n",
    "- **Cluster the venues by their opening hours:**\n",
    "- - Clustering will allow us to see long opening hours, early hours, office hours, nighttime hours, etc.\n",
    "- - Apply the clustering label to each venue\n",
    "- - Visualise the venues coloured by their hours class\n",
    "\n",
    "\n",
    "\n",
    "- **Visualise the hourly distribution:**\n",
    "- - Count the open venues in each lang/long coordinate at each time of day\n",
    "- - Produce 24 maps (one for each hour of the day) showing the number of open venues in each area by colour-coding the markers.\n",
    "\n",
    "\n",
    "\n",
    "\n",
    "- **Cluster the areas by venue hours classes and types:**\n",
    "- - It may be necessary to simplify the venue types as provided by Foursquare (\"restaraunt\" > Italian, Thai, Japanese etc.)\n",
    "- - Cluster the lang/long points to produce a final map\n",
    "- - Visualise the city with simplified labels showing the types of area. This should allow us to identify night-time areas, daytime areas, general store vs restaraunt areas. etc."
   ]
  },
  {
   "cell_type": "code",
   "execution_count": null,
   "metadata": {},
   "outputs": [],
   "source": []
  }
 ],
 "metadata": {
  "kernelspec": {
   "display_name": "Python 3",
   "language": "python",
   "name": "python3"
  },
  "language_info": {
   "codemirror_mode": {
    "name": "ipython",
    "version": 3
   },
   "file_extension": ".py",
   "mimetype": "text/x-python",
   "name": "python",
   "nbconvert_exporter": "python",
   "pygments_lexer": "ipython3",
   "version": "3.7.1"
  }
 },
 "nbformat": 4,
 "nbformat_minor": 2
}
